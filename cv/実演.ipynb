{
 "cells": [
  {
   "cell_type": "code",
   "execution_count": 2,
   "metadata": {
    "collapsed": false
   },
   "outputs": [
    {
     "name": "stdout",
     "output_type": "stream",
     "text": [
      "マッチしました。/Users/dulltz/Workspace/felp-server/static/products/calorie_mate.jpg\n"
     ]
    }
   ],
   "source": [
    "import cv2\n",
    "import glob\n",
    "import os\n",
    "\n",
    "selfy_file = \"test_selfy.jpg\"\n",
    "\n",
    "# 返す変数\n",
    "face_detect_or_not = False\n",
    "detected_product_path = \"\"\n",
    "\n",
    "# 顔画像の学習データ\n",
    "cascade_path = \"haarcascade_frontalface_alt.xml\"\n",
    "\n",
    "selfies_path = os.getcwd() + '/' + \"static/selfies/\"\n",
    "products_path = os.getcwd() + '/' + \"static/products/\"\n",
    "outputs_path = os.getcwd() + '/' + \"static/outputs/\"\n",
    "\n",
    " #ファイル読み込み\n",
    "image = cv2.imread(selfies_path + selfy_file)\n",
    "image_gray = cv2.cvtColor(image, 0)\n",
    "#カスケード分類器の特徴量を取得する\n",
    "cascade = cv2.CascadeClassifier(cascade_path)\n",
    "\n",
    "# 物体認識（顔認識）の実行\n",
    "# image – CV_8U 型の行列．ここに格納されている画像中から物体が検出されます\n",
    "# objects – 矩形を要素とするベクトル．それぞれの矩形は，検出した物体を含みます\n",
    "# scaleFactor – 各画像スケールにおける縮小量を表します\n",
    "# minNeighbors – 物体候補となる矩形は，最低でもこの数だけの近傍矩形を含む必要があります\n",
    "# flags – このパラメータは，新しいカスケードでは利用されません．古いカスケードに対しては，\n",
    "# cvHaarDetectObjects 関数の場合と同じ意味を持ちます\n",
    "# minSize – 物体が取り得る最小サイズ．これよりも小さい物体は無視されます\n",
    "facerect = cascade.detectMultiScale(image_gray, scaleFactor=1.1, minNeighbors=1, minSize=(60, 60))\n",
    "\n",
    "if len(facerect) > 0:\n",
    "    face_detect_or_not = True\n",
    "\n",
    "# ****************************************************************************\n",
    "# 商品画像の検知\n",
    "img2 = image\n",
    "gray2 = cv2.cvtColor(img2, 0)\n",
    "    \n",
    "# 特徴量記述\n",
    "detector = cv2.AKAZE_create()\n",
    "\n",
    "kp2, des2 = detector.detectAndCompute(gray2, None)\n",
    "\n",
    "# 比較器作成\n",
    "bf = cv2.BFMatcher(cv2.NORM_HAMMING)\n",
    "\n",
    "for path in glob.glob(products_path+'*'):\n",
    "    img1 = cv2.imread(path)\n",
    "    gray = cv2.cvtColor(img1, 0)\n",
    "    kp1, des1 = detector.detectAndCompute(gray, None)\n",
    "\n",
    "# 画像への特徴点の書き込み\n",
    "    matches = bf.match(des1, des2)\n",
    "    matches = sorted(matches, key = lambda x:x.distance)\n",
    "\n",
    "    # store all the good matches as per Lowe's ratio test.\n",
    "    good = []\n",
    "    for m in matches:\n",
    "        if m.distance < 70:\n",
    "            good.append(m)\n",
    "\n",
    "    if len(good)>10:\n",
    "        print(\"マッチしました。%s\" % path)\n",
    "        detected_product_path = path\n",
    "        break\n",
    "    else:\n",
    "        print(\"マッチしませんでした！\")\n",
    "        #matchesMask = None\n",
    "        pass\n"
   ]
  },
  {
   "cell_type": "code",
   "execution_count": 10,
   "metadata": {
    "collapsed": false
   },
   "outputs": [
    {
     "data": {
      "text/plain": [
       "'/Users/dulltz/Workspace/felp-server/static/products/*'"
      ]
     },
     "execution_count": 10,
     "metadata": {},
     "output_type": "execute_result"
    }
   ],
   "source": []
  },
  {
   "cell_type": "code",
   "execution_count": null,
   "metadata": {
    "collapsed": true
   },
   "outputs": [],
   "source": []
  }
 ],
 "metadata": {
  "kernelspec": {
   "display_name": "Python 3",
   "language": "python",
   "name": "python3"
  },
  "language_info": {
   "codemirror_mode": {
    "name": "ipython",
    "version": 3
   },
   "file_extension": ".py",
   "mimetype": "text/x-python",
   "name": "python",
   "nbconvert_exporter": "python",
   "pygments_lexer": "ipython3",
   "version": "3.5.2"
  }
 },
 "nbformat": 4,
 "nbformat_minor": 0
}
